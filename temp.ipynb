{
 "cells": [
  {
   "cell_type": "code",
   "execution_count": 18,
   "metadata": {},
   "outputs": [],
   "source": [
    "import numpy as np\n",
    "\n",
    "def bootstrap_metric(metric_values, n_boot=1000, ci=95):\n",
    "    \"\"\"Bootstrap confidence intervals for a given metric.\"\"\"\n",
    "    boot_samples = np.random.choice(metric_values, (n_boot, len(metric_values)), replace=True)\n",
    "    boot_means = np.mean(boot_samples, axis=1)\n",
    "    lower_bound = np.percentile(boot_means, (100 - ci) / 2)\n",
    "    upper_bound = np.percentile(boot_means, 100 - (100 - ci) / 2)\n",
    "    return np.mean(boot_means), np.std(boot_means), (lower_bound, upper_bound)\n",
    "      "
   ]
  },
  {
   "cell_type": "markdown",
   "metadata": {},
   "source": [
    "Train optimization scores"
   ]
  },
  {
   "cell_type": "code",
   "execution_count": 28,
   "metadata": {},
   "outputs": [],
   "source": [
    "logs = [np.float64(-1.1674955426771585), np.float64(-1.2416858621233817), np.float64(-1.1725122542366642), np.float64(-1.2230548363216198), np.float64(-1.181651547798197)]\n",
    "accs = [np.float64(0.3569003395246655), np.float64(0.2309224945208209), np.float64(0.2751396648044693), np.float64(0.2809190809190809), np.float64(0.28121888070105555)]"
   ]
  },
  {
   "cell_type": "code",
   "execution_count": 29,
   "metadata": {},
   "outputs": [
    {
     "data": {
      "text/plain": [
       "np.float64(4.055172099434916)"
      ]
     },
     "execution_count": 29,
     "metadata": {},
     "output_type": "execute_result"
    }
   ],
   "source": [
    "np.std(accs)*100"
   ]
  },
  {
   "cell_type": "code",
   "execution_count": 31,
   "metadata": {},
   "outputs": [
    {
     "name": "stdout",
     "output_type": "stream",
     "text": [
      "\n",
      "Final Nested CV Log Score: -1.1968 +- 0.0130 (CI: [-1.224, -1.172])\n",
      "Final Nested CV Accuracy: 0.2840 +- 0.0178 (CI: [0.251, 0.317])\n"
     ]
    }
   ],
   "source": [
    "final_log, std_log, (log_lb, log_ub) = bootstrap_metric(logs)\n",
    "final_acc, std_acc, (acc_lb, acc_ub) = bootstrap_metric(accs)\n",
    "\n",
    "print(f\"\\nFinal Nested CV Log Score: {final_log:.4f} +- {std_log:.4f} (CI: [{log_lb:.3f}, {log_ub:.3f}])\")\n",
    "print(f\"Final Nested CV Accuracy: {final_acc:.4f} +- {std_acc:.4f} (CI: [{acc_lb:.3f}, {acc_ub:.3f}])\")"
   ]
  },
  {
   "cell_type": "code",
   "execution_count": 3,
   "metadata": {},
   "outputs": [
    {
     "data": {
      "text/plain": [
       "(np.float64(0.28502009209401846), np.float64(0.04055172099434916))"
      ]
     },
     "execution_count": 3,
     "metadata": {},
     "output_type": "execute_result"
    }
   ],
   "source": [
    "np.mean(accs), np.std(accs)"
   ]
  },
  {
   "cell_type": "code",
   "execution_count": 5,
   "metadata": {},
   "outputs": [],
   "source": [
    "pairs = [(np.float64(-1.1675239535122772), np.float64(0.6656680647094069)), (np.float64(-1.7300877507687165), np.float64(0.6658696951583981)), (np.float64(-1.260455793553574), np.float64(0.6656025538707103)), (np.float64(-1.0118600494526304), np.float64(0.6657342657342658)), (np.float64(-1.1716473707515658), np.float64(0.6662019518024298))]"
   ]
  },
  {
   "cell_type": "code",
   "execution_count": 6,
   "metadata": {},
   "outputs": [],
   "source": [
    "logs = [p[0] for p in pairs]\n",
    "accs = [p[1] for p in pairs]"
   ]
  },
  {
   "cell_type": "code",
   "execution_count": 8,
   "metadata": {},
   "outputs": [
    {
     "data": {
      "text/plain": [
       "(np.float64(-1.2683149836077527), np.float64(0.24436384664484645))"
      ]
     },
     "execution_count": 8,
     "metadata": {},
     "output_type": "execute_result"
    }
   ],
   "source": [
    "np.mean(logs), np.std(logs)"
   ]
  },
  {
   "cell_type": "code",
   "execution_count": 11,
   "metadata": {},
   "outputs": [
    {
     "data": {
      "text/plain": [
       "(np.float64(0.6658153062550423), np.float64(0.021258605219092622))"
      ]
     },
     "execution_count": 11,
     "metadata": {},
     "output_type": "execute_result"
    }
   ],
   "source": [
    "np.mean(accs), np.std(accs)*100"
   ]
  },
  {
   "cell_type": "markdown",
   "metadata": {},
   "source": [
    "Nested cv bootstrap"
   ]
  },
  {
   "cell_type": "code",
   "execution_count": null,
   "metadata": {},
   "outputs": [],
   "source": []
  },
  {
   "cell_type": "code",
   "execution_count": 33,
   "metadata": {},
   "outputs": [],
   "source": [
    "accs = np.array([0.6656680647094069,\n",
    "0.6658696951583981,\n",
    "0.6656025538707103,\n",
    "0.6657342657342658,\n",
    "0.6662019518024298])"
   ]
  },
  {
   "cell_type": "code",
   "execution_count": 34,
   "metadata": {},
   "outputs": [],
   "source": [
    "logs = ([-1.1675239535122772,\n",
    "-1.7300877507687165,\n",
    "-1.260455793553574,\n",
    "-1.0118600494526304,\n",
    "-1.1716473707515658])"
   ]
  },
  {
   "cell_type": "code",
   "execution_count": 35,
   "metadata": {},
   "outputs": [
    {
     "name": "stdout",
     "output_type": "stream",
     "text": [
      "\n",
      "Final Nested CV Log Score: -1.2652 +- 0.1089 (CI: [-1.506, -1.105])\n",
      "Final Nested CV Accuracy: 0.6658 +- 0.0001 (CI: [0.666, 0.666])\n"
     ]
    }
   ],
   "source": [
    "final_log, std_log, (log_lb, log_ub) = bootstrap_metric(logs)\n",
    "final_acc, std_acc, (acc_lb, acc_ub) = bootstrap_metric(accs)\n",
    "\n",
    "print(f\"\\nFinal Nested CV Log Score: {final_log:.4f} +- {std_log:.4f} (CI: [{log_lb:.3f}, {log_ub:.3f}])\")\n",
    "print(f\"Final Nested CV Accuracy: {final_acc:.4f} +- {std_acc:.4f} (CI: [{acc_lb:.3f}, {acc_ub:.3f}])\")"
   ]
  },
  {
   "cell_type": "code",
   "execution_count": 24,
   "metadata": {},
   "outputs": [
    {
     "name": "stdout",
     "output_type": "stream",
     "text": [
      "Mean: -1.200, Std Dev: 0.016, 95% CI: (np.float64(-1.2196324316147755), np.float64(-1.1803675683852244))\n"
     ]
    }
   ],
   "source": [
    "import numpy as np\n",
    "import scipy.stats as stats\n",
    "\n",
    "def t_distribution_ci(scores, ci=95):\n",
    "    \"\"\"\n",
    "    Compute confidence interval using a t-distribution for small sample sizes.\n",
    "\n",
    "    Args:\n",
    "        scores (list or np.array): List of metric values (e.g., log loss from 5 folds).\n",
    "        ci (float): Confidence level (default is 95%).\n",
    "\n",
    "    Returns:\n",
    "        mean_score (float): Mean of the scores.\n",
    "        std_dev (float): Standard deviation (corrected for small sample size).\n",
    "        ci_bounds (tuple): Confidence interval bounds.\n",
    "    \"\"\"\n",
    "    scores = np.array(scores)\n",
    "    n = len(scores)\n",
    "    mean_score = np.mean(scores)\n",
    "    std_dev = np.std(scores, ddof=1)  # Use ddof=1 for unbiased estimate (Bessel's correction)\n",
    "    \n",
    "    # Compute t critical value for (n-1) degrees of freedom\n",
    "    t_crit = stats.t.ppf((1 + ci / 100) / 2, df=n - 1)\n",
    "    \n",
    "    # Compute margin of error\n",
    "    margin_of_error = t_crit * (std_dev / np.sqrt(n))\n",
    "    \n",
    "    # Confidence interval\n",
    "    ci_lower = mean_score - margin_of_error\n",
    "    ci_upper = mean_score + margin_of_error\n",
    "\n",
    "    return mean_score, std_dev, (ci_lower, ci_upper)\n",
    "\n",
    "# Example usage\n",
    "scores = [-1.19, -1.22, -1.21, -1.18, -1.20]  # Example log loss values from 5 folds\n",
    "mean, std, ci_bounds = t_distribution_ci(scores)\n",
    "\n",
    "print(f\"Mean: {mean:.3f}, Std Dev: {std:.3f}, 95% CI: {ci_bounds}\")\n"
   ]
  },
  {
   "cell_type": "code",
   "execution_count": 27,
   "metadata": {},
   "outputs": [
    {
     "name": "stdout",
     "output_type": "stream",
     "text": [
      "Mean: -20.043, Std Dev: 0.146, 95% CI: (np.float64(-20.22496067421807), np.float64(-19.861451016513787))\n",
      "Mean: 0.420, Std Dev: 0.004, 95% CI: (np.float64(0.4144274121651212), np.float64(0.42495209472908874))\n"
     ]
    }
   ],
   "source": [
    "a = [(np.float64(-19.907910660218143), np.float64(0.42360695026962253)), (np.float64(-20.20439280642713), np.float64(0.41502291293086274)), (np.float64(-19.922506495947086), np.float64(0.4231843575418994)), (np.float64(-19.98487441351875), np.float64(0.42137862137862137)), (np.float64(-20.196344850718535), np.float64(0.41525592511451903))]\n",
    "logs = [b[0] for b in a]\n",
    "accs = [b[1] for b in a]\n",
    "\n",
    "\n",
    "mean, std, ci_bounds = t_distribution_ci(logs)\n",
    "\n",
    "print(f\"Mean: {mean:.3f}, Std Dev: {std:.3f}, 95% CI: {ci_bounds}\")\n",
    "\n",
    "\n",
    "mean, std, ci_bounds = t_distribution_ci(accs)\n",
    "\n",
    "print(f\"Mean: {mean:.3f}, Std Dev: {std:.3f}, 95% CI: {ci_bounds}\")"
   ]
  }
 ],
 "metadata": {
  "kernelspec": {
   "display_name": ".venv",
   "language": "python",
   "name": "python3"
  },
  "language_info": {
   "codemirror_mode": {
    "name": "ipython",
    "version": 3
   },
   "file_extension": ".py",
   "mimetype": "text/x-python",
   "name": "python",
   "nbconvert_exporter": "python",
   "pygments_lexer": "ipython3",
   "version": "3.8.20"
  }
 },
 "nbformat": 4,
 "nbformat_minor": 2
}
