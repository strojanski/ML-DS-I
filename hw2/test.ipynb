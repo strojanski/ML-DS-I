{
 "cells": [
  {
   "cell_type": "code",
   "execution_count": 6,
   "metadata": {},
   "outputs": [
    {
     "name": "stdout",
     "output_type": "stream",
     "text": [
      "Fitting 5 folds for each of 16 candidates, totalling 80 fits\n",
      "Best parameters found: {'svc__C': 0.1, 'svc__gamma': 0.01, 'svc__kernel': 'linear'}\n",
      "Best cross-validation score: 0.6871120493151771\n"
     ]
    }
   ],
   "source": [
    "from sklearn.model_selection import GridSearchCV\n",
    "from sklearn.svm import SVC\n",
    "from sklearn.preprocessing import StandardScaler\n",
    "from sklearn.pipeline import make_pipeline\n",
    "from sklearn.datasets import make_classification\n",
    "import numpy as np\n",
    "from sklearn.preprocessing import LabelEncoder, OneHotEncoder, StandardScaler\n",
    "import pandas as pd\n",
    "categorical_cols = [\"Competition\", \"PlayerType\", \"Movement\"]\n",
    "\n",
    "def encode_labels(df, columns):\n",
    "    le = LabelEncoder()\n",
    "    for col in columns:\n",
    "        df[col] = le.fit_transform(df[col])    \n",
    "    return df, le\n",
    "\n",
    "def load_data():\n",
    "    return pd.read_csv(\"dataset.csv\", sep=\";\")\n",
    "\n",
    "\n",
    "TARGET = \"ShotType\"\n",
    "\n",
    "# Parameters for grid search\n",
    "gammas = [1e-2, 1e-1, 1, \"scale\"]\n",
    "regularization_params = [1e-2, 1e-1]\n",
    "kernels = [\"linear\", \"rbf\"]\n",
    "\n",
    "# Create the parameter grid\n",
    "param_grid = {\n",
    "    \"svc__gamma\": gammas,\n",
    "    \"svc__C\": regularization_params,\n",
    "    \"svc__kernel\": kernels\n",
    "}\n",
    "\n",
    "df = load_data()\n",
    "    \n",
    "df, le = encode_labels(df, [TARGET] + categorical_cols)\n",
    "\n",
    "X, y = df.drop(columns=TARGET), df[TARGET]\n",
    "\n",
    "# Create a pipeline with scaling and SVM\n",
    "pipeline = make_pipeline(SVC())\n",
    "\n",
    "# Set up the GridSearchCV\n",
    "grid_search = GridSearchCV(pipeline, param_grid, cv=5, n_jobs=-1, verbose=1)\n",
    "\n",
    "# Run grid search\n",
    "grid_search.fit(X, y)\n",
    "\n",
    "# Print the best parameters and score\n",
    "print(\"Best parameters found:\", grid_search.best_params_)\n",
    "print(\"Best cross-validation score:\", grid_search.best_score_)\n"
   ]
  }
 ],
 "metadata": {
  "kernelspec": {
   "display_name": ".venv",
   "language": "python",
   "name": "python3"
  },
  "language_info": {
   "codemirror_mode": {
    "name": "ipython",
    "version": 3
   },
   "file_extension": ".py",
   "mimetype": "text/x-python",
   "name": "python",
   "nbconvert_exporter": "python",
   "pygments_lexer": "ipython3",
   "version": "3.12.9"
  }
 },
 "nbformat": 4,
 "nbformat_minor": 2
}
